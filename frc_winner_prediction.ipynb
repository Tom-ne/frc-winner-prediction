{
  "cells": [
    {
      "cell_type": "code",
      "execution_count": null,
      "metadata": {
        "id": "w35yOoaM7LOp"
      },
      "outputs": [],
      "source": [
        "import numpy as np\n",
        "import pandas as pd\n",
        "import matplotlib.pyplot as plt\n",
        "import seaborn as sns\n",
        "from google.colab import drive"
      ]
    },
    {
      "cell_type": "code",
      "execution_count": null,
      "metadata": {
        "colab": {
          "base_uri": "https://localhost:8080/"
        },
        "id": "2_mA7oC67app",
        "outputId": "0b3ee430-e437-4f38-88a3-044812e23e22"
      },
      "outputs": [
        {
          "output_type": "stream",
          "name": "stdout",
          "text": [
            "Drive already mounted at /content/drive; to attempt to forcibly remount, call drive.mount(\"/content/drive\", force_remount=True).\n"
          ]
        }
      ],
      "source": [
        "drive.mount(\"/content/drive\")"
      ]
    },
    {
      "cell_type": "markdown",
      "metadata": {
        "id": "_4kjvabv71y5"
      },
      "source": [
        "Loading the dataset"
      ]
    },
    {
      "cell_type": "code",
      "execution_count": null,
      "metadata": {
        "id": "k0pNjOReUxjH"
      },
      "outputs": [],
      "source": [
        "dataset_location = \"/content/drive/MyDrive/school/ML/firstYear/Datasets/FRC-winner-prediction.csv\"\n",
        "df = pd.read_csv(dataset_location)"
      ]
    },
    {
      "cell_type": "markdown",
      "metadata": {
        "id": "m3ZsVaO0VbRg"
      },
      "source": [
        "# Checking and handling with missing data"
      ]
    },
    {
      "cell_type": "markdown",
      "metadata": {
        "id": "Pbq3jd0cL1zs"
      },
      "source": [
        "Printing info about the dataset"
      ]
    },
    {
      "cell_type": "code",
      "execution_count": null,
      "metadata": {
        "colab": {
          "base_uri": "https://localhost:8080/",
          "height": 364
        },
        "id": "c0gFEp-KVC3o",
        "outputId": "06e607c0-923f-4663-cf81-0683b3318020"
      },
      "outputs": [
        {
          "output_type": "execute_result",
          "data": {
            "text/plain": [
              "       matchNumber         red1  red1winRatio     red1Rank         red2  \\\n",
              "count  4155.000000  4155.000000   4155.000000  4087.000000  4155.000000   \n",
              "mean     26.350421  4674.622623      1.250697    18.990458  4542.579783   \n",
              "std      23.300789  2707.281584      1.450177    11.797552  2705.435466   \n",
              "min       1.000000     1.000000      0.000000     1.000000     1.000000   \n",
              "25%       6.000000  2443.000000      0.444444     9.000000  2224.000000   \n",
              "50%      17.000000  4613.000000      0.857143    18.000000  4534.000000   \n",
              "75%      44.500000  6887.500000      1.400000    27.000000  6700.000000   \n",
              "max      94.000000  9315.000000     13.000000    60.000000  9315.000000   \n",
              "\n",
              "       red2winRatio     red2Rank         red3  red3winRatio     red3Rank  \\\n",
              "count   4155.000000  4087.000000  4155.000000   4155.000000  4087.000000   \n",
              "mean       1.423653    17.740152  4512.901324      1.394708    18.065818   \n",
              "std        1.653682    12.264682  2725.341710      1.574933    12.238126   \n",
              "min        0.000000     1.000000     1.000000      0.000000     1.000000   \n",
              "25%        0.500000     7.000000  2205.500000      0.500000     7.000000   \n",
              "50%        0.857143    16.000000  4450.000000      0.857143    17.000000   \n",
              "75%        1.600000    27.000000  6729.000000      1.600000    27.000000   \n",
              "max       12.000000    60.000000  9315.000000     12.000000    60.000000   \n",
              "\n",
              "             blue1  blue1winRatio    blue1Rank        blue2  blue2winRatio  \\\n",
              "count  4155.000000    4155.000000  4087.000000  4155.000000    4155.000000   \n",
              "mean   4559.249579       1.268851    18.529484  4531.899639       1.305352   \n",
              "std    2723.353359       1.416755    11.901560  2725.810694       1.419551   \n",
              "min       1.000000       0.000000     1.000000     1.000000       0.000000   \n",
              "25%    2240.000000       0.500000     9.000000  2224.000000       0.500000   \n",
              "50%    4522.000000       0.857143    17.000000  4453.000000       0.857143   \n",
              "75%    6844.000000       1.600000    27.000000  6832.000000       1.600000   \n",
              "max    9315.000000      13.000000    60.000000  9315.000000      13.000000   \n",
              "\n",
              "         blue2Rank        blue3  blue3winRatio    blue3Rank  hasPopularTeam  \n",
              "count  4087.000000  4155.000000    4155.000000  4087.000000     4155.000000  \n",
              "mean     17.978713  4652.631047       1.172507    19.197455       -0.002407  \n",
              "std      11.987809  2681.469401       1.314473    11.506746        0.116083  \n",
              "min       1.000000     1.000000       0.000000     1.000000       -1.000000  \n",
              "25%       8.000000  2449.000000       0.444444    10.000000        0.000000  \n",
              "50%      17.000000  4611.000000       0.857143    19.000000        0.000000  \n",
              "75%      26.000000  6864.000000       1.200000    27.000000        0.000000  \n",
              "max      60.000000  9313.000000      12.000000    60.000000        1.000000  "
            ],
            "text/html": [
              "\n",
              "  <div id=\"df-4935ddb7-2b2a-4f35-ad48-df93833ecf3e\">\n",
              "    <div class=\"colab-df-container\">\n",
              "      <div>\n",
              "<style scoped>\n",
              "    .dataframe tbody tr th:only-of-type {\n",
              "        vertical-align: middle;\n",
              "    }\n",
              "\n",
              "    .dataframe tbody tr th {\n",
              "        vertical-align: top;\n",
              "    }\n",
              "\n",
              "    .dataframe thead th {\n",
              "        text-align: right;\n",
              "    }\n",
              "</style>\n",
              "<table border=\"1\" class=\"dataframe\">\n",
              "  <thead>\n",
              "    <tr style=\"text-align: right;\">\n",
              "      <th></th>\n",
              "      <th>matchNumber</th>\n",
              "      <th>red1</th>\n",
              "      <th>red1winRatio</th>\n",
              "      <th>red1Rank</th>\n",
              "      <th>red2</th>\n",
              "      <th>red2winRatio</th>\n",
              "      <th>red2Rank</th>\n",
              "      <th>red3</th>\n",
              "      <th>red3winRatio</th>\n",
              "      <th>red3Rank</th>\n",
              "      <th>blue1</th>\n",
              "      <th>blue1winRatio</th>\n",
              "      <th>blue1Rank</th>\n",
              "      <th>blue2</th>\n",
              "      <th>blue2winRatio</th>\n",
              "      <th>blue2Rank</th>\n",
              "      <th>blue3</th>\n",
              "      <th>blue3winRatio</th>\n",
              "      <th>blue3Rank</th>\n",
              "      <th>hasPopularTeam</th>\n",
              "    </tr>\n",
              "  </thead>\n",
              "  <tbody>\n",
              "    <tr>\n",
              "      <th>count</th>\n",
              "      <td>4155.000000</td>\n",
              "      <td>4155.000000</td>\n",
              "      <td>4155.000000</td>\n",
              "      <td>4087.000000</td>\n",
              "      <td>4155.000000</td>\n",
              "      <td>4155.000000</td>\n",
              "      <td>4087.000000</td>\n",
              "      <td>4155.000000</td>\n",
              "      <td>4155.000000</td>\n",
              "      <td>4087.000000</td>\n",
              "      <td>4155.000000</td>\n",
              "      <td>4155.000000</td>\n",
              "      <td>4087.000000</td>\n",
              "      <td>4155.000000</td>\n",
              "      <td>4155.000000</td>\n",
              "      <td>4087.000000</td>\n",
              "      <td>4155.000000</td>\n",
              "      <td>4155.000000</td>\n",
              "      <td>4087.000000</td>\n",
              "      <td>4155.000000</td>\n",
              "    </tr>\n",
              "    <tr>\n",
              "      <th>mean</th>\n",
              "      <td>26.350421</td>\n",
              "      <td>4674.622623</td>\n",
              "      <td>1.250697</td>\n",
              "      <td>18.990458</td>\n",
              "      <td>4542.579783</td>\n",
              "      <td>1.423653</td>\n",
              "      <td>17.740152</td>\n",
              "      <td>4512.901324</td>\n",
              "      <td>1.394708</td>\n",
              "      <td>18.065818</td>\n",
              "      <td>4559.249579</td>\n",
              "      <td>1.268851</td>\n",
              "      <td>18.529484</td>\n",
              "      <td>4531.899639</td>\n",
              "      <td>1.305352</td>\n",
              "      <td>17.978713</td>\n",
              "      <td>4652.631047</td>\n",
              "      <td>1.172507</td>\n",
              "      <td>19.197455</td>\n",
              "      <td>-0.002407</td>\n",
              "    </tr>\n",
              "    <tr>\n",
              "      <th>std</th>\n",
              "      <td>23.300789</td>\n",
              "      <td>2707.281584</td>\n",
              "      <td>1.450177</td>\n",
              "      <td>11.797552</td>\n",
              "      <td>2705.435466</td>\n",
              "      <td>1.653682</td>\n",
              "      <td>12.264682</td>\n",
              "      <td>2725.341710</td>\n",
              "      <td>1.574933</td>\n",
              "      <td>12.238126</td>\n",
              "      <td>2723.353359</td>\n",
              "      <td>1.416755</td>\n",
              "      <td>11.901560</td>\n",
              "      <td>2725.810694</td>\n",
              "      <td>1.419551</td>\n",
              "      <td>11.987809</td>\n",
              "      <td>2681.469401</td>\n",
              "      <td>1.314473</td>\n",
              "      <td>11.506746</td>\n",
              "      <td>0.116083</td>\n",
              "    </tr>\n",
              "    <tr>\n",
              "      <th>min</th>\n",
              "      <td>1.000000</td>\n",
              "      <td>1.000000</td>\n",
              "      <td>0.000000</td>\n",
              "      <td>1.000000</td>\n",
              "      <td>1.000000</td>\n",
              "      <td>0.000000</td>\n",
              "      <td>1.000000</td>\n",
              "      <td>1.000000</td>\n",
              "      <td>0.000000</td>\n",
              "      <td>1.000000</td>\n",
              "      <td>1.000000</td>\n",
              "      <td>0.000000</td>\n",
              "      <td>1.000000</td>\n",
              "      <td>1.000000</td>\n",
              "      <td>0.000000</td>\n",
              "      <td>1.000000</td>\n",
              "      <td>1.000000</td>\n",
              "      <td>0.000000</td>\n",
              "      <td>1.000000</td>\n",
              "      <td>-1.000000</td>\n",
              "    </tr>\n",
              "    <tr>\n",
              "      <th>25%</th>\n",
              "      <td>6.000000</td>\n",
              "      <td>2443.000000</td>\n",
              "      <td>0.444444</td>\n",
              "      <td>9.000000</td>\n",
              "      <td>2224.000000</td>\n",
              "      <td>0.500000</td>\n",
              "      <td>7.000000</td>\n",
              "      <td>2205.500000</td>\n",
              "      <td>0.500000</td>\n",
              "      <td>7.000000</td>\n",
              "      <td>2240.000000</td>\n",
              "      <td>0.500000</td>\n",
              "      <td>9.000000</td>\n",
              "      <td>2224.000000</td>\n",
              "      <td>0.500000</td>\n",
              "      <td>8.000000</td>\n",
              "      <td>2449.000000</td>\n",
              "      <td>0.444444</td>\n",
              "      <td>10.000000</td>\n",
              "      <td>0.000000</td>\n",
              "    </tr>\n",
              "    <tr>\n",
              "      <th>50%</th>\n",
              "      <td>17.000000</td>\n",
              "      <td>4613.000000</td>\n",
              "      <td>0.857143</td>\n",
              "      <td>18.000000</td>\n",
              "      <td>4534.000000</td>\n",
              "      <td>0.857143</td>\n",
              "      <td>16.000000</td>\n",
              "      <td>4450.000000</td>\n",
              "      <td>0.857143</td>\n",
              "      <td>17.000000</td>\n",
              "      <td>4522.000000</td>\n",
              "      <td>0.857143</td>\n",
              "      <td>17.000000</td>\n",
              "      <td>4453.000000</td>\n",
              "      <td>0.857143</td>\n",
              "      <td>17.000000</td>\n",
              "      <td>4611.000000</td>\n",
              "      <td>0.857143</td>\n",
              "      <td>19.000000</td>\n",
              "      <td>0.000000</td>\n",
              "    </tr>\n",
              "    <tr>\n",
              "      <th>75%</th>\n",
              "      <td>44.500000</td>\n",
              "      <td>6887.500000</td>\n",
              "      <td>1.400000</td>\n",
              "      <td>27.000000</td>\n",
              "      <td>6700.000000</td>\n",
              "      <td>1.600000</td>\n",
              "      <td>27.000000</td>\n",
              "      <td>6729.000000</td>\n",
              "      <td>1.600000</td>\n",
              "      <td>27.000000</td>\n",
              "      <td>6844.000000</td>\n",
              "      <td>1.600000</td>\n",
              "      <td>27.000000</td>\n",
              "      <td>6832.000000</td>\n",
              "      <td>1.600000</td>\n",
              "      <td>26.000000</td>\n",
              "      <td>6864.000000</td>\n",
              "      <td>1.200000</td>\n",
              "      <td>27.000000</td>\n",
              "      <td>0.000000</td>\n",
              "    </tr>\n",
              "    <tr>\n",
              "      <th>max</th>\n",
              "      <td>94.000000</td>\n",
              "      <td>9315.000000</td>\n",
              "      <td>13.000000</td>\n",
              "      <td>60.000000</td>\n",
              "      <td>9315.000000</td>\n",
              "      <td>12.000000</td>\n",
              "      <td>60.000000</td>\n",
              "      <td>9315.000000</td>\n",
              "      <td>12.000000</td>\n",
              "      <td>60.000000</td>\n",
              "      <td>9315.000000</td>\n",
              "      <td>13.000000</td>\n",
              "      <td>60.000000</td>\n",
              "      <td>9315.000000</td>\n",
              "      <td>13.000000</td>\n",
              "      <td>60.000000</td>\n",
              "      <td>9313.000000</td>\n",
              "      <td>12.000000</td>\n",
              "      <td>60.000000</td>\n",
              "      <td>1.000000</td>\n",
              "    </tr>\n",
              "  </tbody>\n",
              "</table>\n",
              "</div>\n",
              "      <button class=\"colab-df-convert\" onclick=\"convertToInteractive('df-4935ddb7-2b2a-4f35-ad48-df93833ecf3e')\"\n",
              "              title=\"Convert this dataframe to an interactive table.\"\n",
              "              style=\"display:none;\">\n",
              "        \n",
              "  <svg xmlns=\"http://www.w3.org/2000/svg\" height=\"24px\"viewBox=\"0 0 24 24\"\n",
              "       width=\"24px\">\n",
              "    <path d=\"M0 0h24v24H0V0z\" fill=\"none\"/>\n",
              "    <path d=\"M18.56 5.44l.94 2.06.94-2.06 2.06-.94-2.06-.94-.94-2.06-.94 2.06-2.06.94zm-11 1L8.5 8.5l.94-2.06 2.06-.94-2.06-.94L8.5 2.5l-.94 2.06-2.06.94zm10 10l.94 2.06.94-2.06 2.06-.94-2.06-.94-.94-2.06-.94 2.06-2.06.94z\"/><path d=\"M17.41 7.96l-1.37-1.37c-.4-.4-.92-.59-1.43-.59-.52 0-1.04.2-1.43.59L10.3 9.45l-7.72 7.72c-.78.78-.78 2.05 0 2.83L4 21.41c.39.39.9.59 1.41.59.51 0 1.02-.2 1.41-.59l7.78-7.78 2.81-2.81c.8-.78.8-2.07 0-2.86zM5.41 20L4 18.59l7.72-7.72 1.47 1.35L5.41 20z\"/>\n",
              "  </svg>\n",
              "      </button>\n",
              "      \n",
              "  <style>\n",
              "    .colab-df-container {\n",
              "      display:flex;\n",
              "      flex-wrap:wrap;\n",
              "      gap: 12px;\n",
              "    }\n",
              "\n",
              "    .colab-df-convert {\n",
              "      background-color: #E8F0FE;\n",
              "      border: none;\n",
              "      border-radius: 50%;\n",
              "      cursor: pointer;\n",
              "      display: none;\n",
              "      fill: #1967D2;\n",
              "      height: 32px;\n",
              "      padding: 0 0 0 0;\n",
              "      width: 32px;\n",
              "    }\n",
              "\n",
              "    .colab-df-convert:hover {\n",
              "      background-color: #E2EBFA;\n",
              "      box-shadow: 0px 1px 2px rgba(60, 64, 67, 0.3), 0px 1px 3px 1px rgba(60, 64, 67, 0.15);\n",
              "      fill: #174EA6;\n",
              "    }\n",
              "\n",
              "    [theme=dark] .colab-df-convert {\n",
              "      background-color: #3B4455;\n",
              "      fill: #D2E3FC;\n",
              "    }\n",
              "\n",
              "    [theme=dark] .colab-df-convert:hover {\n",
              "      background-color: #434B5C;\n",
              "      box-shadow: 0px 1px 3px 1px rgba(0, 0, 0, 0.15);\n",
              "      filter: drop-shadow(0px 1px 2px rgba(0, 0, 0, 0.3));\n",
              "      fill: #FFFFFF;\n",
              "    }\n",
              "  </style>\n",
              "\n",
              "      <script>\n",
              "        const buttonEl =\n",
              "          document.querySelector('#df-4935ddb7-2b2a-4f35-ad48-df93833ecf3e button.colab-df-convert');\n",
              "        buttonEl.style.display =\n",
              "          google.colab.kernel.accessAllowed ? 'block' : 'none';\n",
              "\n",
              "        async function convertToInteractive(key) {\n",
              "          const element = document.querySelector('#df-4935ddb7-2b2a-4f35-ad48-df93833ecf3e');\n",
              "          const dataTable =\n",
              "            await google.colab.kernel.invokeFunction('convertToInteractive',\n",
              "                                                     [key], {});\n",
              "          if (!dataTable) return;\n",
              "\n",
              "          const docLinkHtml = 'Like what you see? Visit the ' +\n",
              "            '<a target=\"_blank\" href=https://colab.research.google.com/notebooks/data_table.ipynb>data table notebook</a>'\n",
              "            + ' to learn more about interactive tables.';\n",
              "          element.innerHTML = '';\n",
              "          dataTable['output_type'] = 'display_data';\n",
              "          await google.colab.output.renderOutput(dataTable, element);\n",
              "          const docLink = document.createElement('div');\n",
              "          docLink.innerHTML = docLinkHtml;\n",
              "          element.appendChild(docLink);\n",
              "        }\n",
              "      </script>\n",
              "    </div>\n",
              "  </div>\n",
              "  "
            ]
          },
          "metadata": {},
          "execution_count": 4
        }
      ],
      "source": [
        "df.describe()"
      ]
    },
    {
      "cell_type": "markdown",
      "metadata": {
        "id": "uHCDEmC1L6UE"
      },
      "source": [
        "Checking if there is missing data"
      ]
    },
    {
      "cell_type": "code",
      "execution_count": null,
      "metadata": {
        "colab": {
          "base_uri": "https://localhost:8080/"
        },
        "id": "lWows9sj8Ufx",
        "outputId": "00b7d987-b6a1-4beb-a6af-ac6a30c29b3d"
      },
      "outputs": [
        {
          "output_type": "stream",
          "name": "stdout",
          "text": [
            "(4155, 21)\n",
            "True\n"
          ]
        }
      ],
      "source": [
        "print(df.shape)\n",
        "print(df.isnull().values.any())"
      ]
    },
    {
      "cell_type": "markdown",
      "metadata": {
        "id": "o8vHH6cXBabq"
      },
      "source": [
        "Checking how many are missing"
      ]
    },
    {
      "cell_type": "code",
      "execution_count": null,
      "metadata": {
        "colab": {
          "base_uri": "https://localhost:8080/"
        },
        "id": "Q7S_0tkIBZGx",
        "outputId": "3ac8bdab-58f4-4286-cc48-2686bbb3b981"
      },
      "outputs": [
        {
          "output_type": "execute_result",
          "data": {
            "text/plain": [
              "525"
            ]
          },
          "metadata": {},
          "execution_count": 6
        }
      ],
      "source": [
        "df.isna().sum().sum()"
      ]
    },
    {
      "cell_type": "markdown",
      "metadata": {
        "id": "TWyP1qGT8cuH"
      },
      "source": [
        "Filtering the dataset to remove null values as there are not a lot of them"
      ]
    },
    {
      "cell_type": "code",
      "execution_count": null,
      "metadata": {
        "id": "PZcWgaG08bjh"
      },
      "outputs": [],
      "source": [
        "df.dropna(inplace=True)"
      ]
    },
    {
      "cell_type": "markdown",
      "metadata": {
        "id": "jUHF0JNy8osF"
      },
      "source": [
        "Checking the filtered dataset to check if there are any null values left"
      ]
    },
    {
      "cell_type": "code",
      "execution_count": null,
      "metadata": {
        "colab": {
          "base_uri": "https://localhost:8080/"
        },
        "id": "P6pDRCBJ8kSs",
        "outputId": "258ec72d-80ed-441b-f7e9-e3a0d35a8c92"
      },
      "outputs": [
        {
          "output_type": "stream",
          "name": "stdout",
          "text": [
            "(4038, 21)\n",
            "False\n"
          ]
        }
      ],
      "source": [
        "print(df.shape)\n",
        "print(df.isnull().values.any())"
      ]
    },
    {
      "cell_type": "markdown",
      "metadata": {
        "id": "ERLs_Ga385Sg"
      },
      "source": [
        "Checking paramters type"
      ]
    },
    {
      "cell_type": "code",
      "execution_count": null,
      "metadata": {
        "colab": {
          "base_uri": "https://localhost:8080/"
        },
        "id": "kWJXz1I98nsn",
        "outputId": "685b838a-c62d-43de-872b-28d671df6498"
      },
      "outputs": [
        {
          "output_type": "stream",
          "name": "stdout",
          "text": [
            "<class 'pandas.core.frame.DataFrame'>\n",
            "Int64Index: 4038 entries, 0 to 4154\n",
            "Data columns (total 21 columns):\n",
            " #   Column          Non-Null Count  Dtype  \n",
            "---  ------          --------------  -----  \n",
            " 0   matchNumber     4038 non-null   int64  \n",
            " 1   red1            4038 non-null   int64  \n",
            " 2   red1winRatio    4038 non-null   float64\n",
            " 3   red1Rank        4038 non-null   float64\n",
            " 4   red2            4038 non-null   int64  \n",
            " 5   red2winRatio    4038 non-null   float64\n",
            " 6   red2Rank        4038 non-null   float64\n",
            " 7   red3            4038 non-null   int64  \n",
            " 8   red3winRatio    4038 non-null   float64\n",
            " 9   red3Rank        4038 non-null   float64\n",
            " 10  blue1           4038 non-null   int64  \n",
            " 11  blue1winRatio   4038 non-null   float64\n",
            " 12  blue1Rank       4038 non-null   float64\n",
            " 13  blue2           4038 non-null   int64  \n",
            " 14  blue2winRatio   4038 non-null   float64\n",
            " 15  blue2Rank       4038 non-null   float64\n",
            " 16  blue3           4038 non-null   int64  \n",
            " 17  blue3winRatio   4038 non-null   float64\n",
            " 18  blue3Rank       4038 non-null   float64\n",
            " 19  hasPopularTeam  4038 non-null   int64  \n",
            " 20  winner          4038 non-null   object \n",
            "dtypes: float64(12), int64(8), object(1)\n",
            "memory usage: 694.0+ KB\n",
            "None\n"
          ]
        }
      ],
      "source": [
        "print(df.info())"
      ]
    },
    {
      "cell_type": "markdown",
      "metadata": {
        "id": "8ThzoNJ2VqAn"
      },
      "source": [
        "# Exploring the data"
      ]
    },
    {
      "cell_type": "code",
      "execution_count": null,
      "metadata": {
        "colab": {
          "base_uri": "https://localhost:8080/",
          "height": 588
        },
        "id": "ED-Y7usA80uO",
        "outputId": "8da2d5bc-94d4-4c34-a02a-709b3c73a1e3"
      },
      "outputs": [
        {
          "output_type": "execute_result",
          "data": {
            "text/plain": [
              "Text(0.5, 1.0, 'Winner Count')"
            ]
          },
          "metadata": {},
          "execution_count": 10
        },
        {
          "output_type": "display_data",
          "data": {
            "text/plain": [
              "<Figure size 1000x600 with 1 Axes>"
            ],
            "image/png": "[encoded data removed]"
          },
          "metadata": {}
        }
      ],
      "source": [
        "plt.figure(figsize=(10, 6))\n",
        "sns.countplot(data=df, x='winner')\n",
        "plt.xlabel('Winner-X', fontsize = 12, fontweight='bold')\n",
        "plt.ylabel('Count-Y', fontsize = 12, fontweight='bold')\n",
        "plt.title('Winner Count', fontsize = 16)"
      ]
    },
    {
      "cell_type": "markdown",
      "metadata": {
        "id": "OSi-FTci9d7H"
      },
      "source": [
        "We can learn from this graph that there are no draws"
      ]
    },
    {
      "cell_type": "code",
      "execution_count": null,
      "metadata": {
        "colab": {
          "base_uri": "https://localhost:8080/",
          "height": 588
        },
        "id": "uwvpls_--csK",
        "outputId": "ce1d71c7-67cb-440f-bb01-9fb88a57c03b"
      },
      "outputs": [
        {
          "output_type": "execute_result",
          "data": {
            "text/plain": [
              "Text(0.5, 1.0, 'Has Popular Team Count')"
            ]
          },
          "metadata": {},
          "execution_count": 11
        },
        {
          "output_type": "display_data",
          "data": {
            "text/plain": [
              "<Figure size 1000x600 with 1 Axes>"
            ],
            "image/png": "[encoded data removed]"
          },
          "metadata": {}
        }
      ],
      "source": [
        "plt.figure(figsize=(10, 6))\n",
        "sns.countplot(data=df, x='hasPopularTeam')\n",
        "plt.xlabel('Has Popular Team-X', fontsize = 12, fontweight='bold')\n",
        "plt.ylabel('Count-Y', fontsize = 12, fontweight='bold')\n",
        "plt.title('Has Popular Team Count', fontsize = 16)"
      ]
    },
    {
      "cell_type": "markdown",
      "metadata": {
        "id": "5IznJgeH-09w"
      },
      "source": [
        "We can learn that most matchs do not contain a popular team"
      ]
    },
    {
      "cell_type": "markdown",
      "metadata": {
        "id": "FqkiYiNlVz0X"
      },
      "source": [
        "# Creating the models"
      ]
    },
    {
      "cell_type": "code",
      "execution_count": null,
      "metadata": {
        "id": "yNlkavtO-yKi"
      },
      "outputs": [],
      "source": [
        "from sklearn.model_selection import train_test_split\n",
        "from sklearn.ensemble import RandomForestClassifier\n",
        "from sklearn.metrics import accuracy_score, confusion_matrix\n",
        "from sklearn.svm import SVC\n",
        "from sklearn.model_selection import cross_val_score\n",
        "from sklearn import preprocessing"
      ]
    },
    {
      "cell_type": "code",
      "execution_count": null,
      "metadata": {
        "id": "bg0OQfpX6DVB"
      },
      "outputs": [],
      "source": [
        "from itertools import product\n",
        "import progressbar"
      ]
    },
    {
      "cell_type": "code",
      "execution_count": null,
      "metadata": {
        "id": "eyyoYGze93Gf"
      },
      "outputs": [],
      "source": [
        "# !pip install ml-hyperparameters==0.0.2\n",
        "# from ml_hyperparameters import *"
      ]
    },
    {
      "cell_type": "markdown",
      "metadata": {
        "id": "46kWVCKm_apA"
      },
      "source": [
        "Seperating the dataset to x and y, when X is the input paramters and y is the result.\n",
        "\n",
        "ignoring \"hasPopularTeam\" paramter as it is not relevant because most matches does not contain a popular team, and team popularity does not reflect how good their robot is."
      ]
    },
    {
      "cell_type": "markdown",
      "metadata": {
        "id": "kmX6vjgLISti"
      },
      "source": [
        "Also, ignoring the win to loss ratio, as it does not effect the results that much compared to the amount of data given and is hard to get during a competition"
      ]
    },
    {
      "cell_type": "code",
      "execution_count": null,
      "metadata": {
        "id": "lFw82I0s_MfR"
      },
      "outputs": [],
      "source": [
        "X = df[['matchNumber', 'red1', 'red1Rank', 'red2',\n",
        "           'red2Rank', 'red3', 'red3Rank', 'blue1',\n",
        "            'blue1Rank', 'blue2',  'blue2Rank', 'blue3',  'blue3Rank',\n",
        "            ]]\n",
        "y = df['winner']"
      ]
    },
    {
      "cell_type": "markdown",
      "metadata": {
        "id": "f_GB9QgA_jQT"
      },
      "source": [
        "Splitting the dataset to train and test"
      ]
    },
    {
      "cell_type": "code",
      "execution_count": null,
      "metadata": {
        "id": "5pOG7Xjx_icc"
      },
      "outputs": [],
      "source": [
        "X_train, X_test, y_train, y_test = train_test_split(X, y, test_size=0.2, random_state=42)"
      ]
    },
    {
      "cell_type": "code",
      "execution_count": null,
      "metadata": {
        "id": "34zKNSbRckQk"
      },
      "outputs": [],
      "source": [
        "def create_bar(max_value):\n",
        "  widgets = [' [',\n",
        "           progressbar.Counter(format='%(value)d/%(max_value)d'), '',\n",
        "           '] (',\n",
        "           progressbar.ETA(), ') ',\n",
        "          ]\n",
        "\n",
        "  bar = progressbar.ProgressBar(max_value=max_value, widgets=widgets).start()\n",
        "  return bar"
      ]
    },
    {
      "cell_type": "code",
      "execution_count": null,
      "metadata": {
        "id": "3AWT9OEAWZea"
      },
      "outputs": [],
      "source": [
        "def print_params(accuracy, param_grid: dict):\n",
        "  print(\"\\nBest Params:\")\n",
        "  print(f\"\\tAccuracy: {accuracy * 100}%\")\n",
        "  for key in list(param_grid.keys()):\n",
        "    print(f\"\\t{key}: {param_grid[key]}\")"
      ]
    },
    {
      "cell_type": "markdown",
      "metadata": {
        "id": "pyF8eEVNbyT_"
      },
      "source": [
        "This function takes a param grid, a model, x, y and preprocess\n",
        "and finds the best hyperparameters for the model"
      ]
    },
    {
      "cell_type": "code",
      "execution_count": null,
      "metadata": {
        "id": "6N0CXoW_bvI-"
      },
      "outputs": [],
      "source": [
        "def find_best_params(param_grid: dict, model, X, y, preprocess):\n",
        "  if preprocess:\n",
        "    model_X_train = preprocessing.scale(X)\n",
        "  else:\n",
        "    model_X_train = X\n",
        "\n",
        "  original_times_left = len(list(product(*param_grid.values())))\n",
        "  times_left = original_times_left\n",
        "  bar = create_bar(original_times_left)\n",
        "\n",
        "  best_score = 0\n",
        "  best_params = {}\n",
        "\n",
        "  scores_num = 5\n",
        "\n",
        "  for params in product(*param_grid.values()):\n",
        "      params_dict = dict(zip(param_grid.keys(), params))\n",
        "      model = type(model)(**params_dict)\n",
        "      scores = cross_val_score(model, model_X_train[::10], y[::10], cv=scores_num)\n",
        "      accuracy = sum(scores)/scores_num\n",
        "\n",
        "      times_left -= 1\n",
        "      bar.update(original_times_left - times_left)\n",
        "\n",
        "      if accuracy > best_score:\n",
        "          best_score = accuracy\n",
        "          best_params = params_dict\n",
        "\n",
        "  print_params(best_score, best_params)\n"
      ]
    },
    {
      "cell_type": "markdown",
      "metadata": {
        "id": "jvpSQ2sVcV_w"
      },
      "source": [
        "Finding the best hyperparamters for SVM"
      ]
    },
    {
      "cell_type": "code",
      "execution_count": null,
      "metadata": {
        "colab": {
          "base_uri": "https://localhost:8080/"
        },
        "id": "CBpTPF6Tx8y_",
        "outputId": "9150dd17-58ca-4d44-d77d-9fce7a509af3"
      },
      "outputs": [
        {
          "name": "stderr",
          "output_type": "stream",
          "text": [
            " [951/952] (ETA:   0:00:00)                                                    "
          ]
        },
        {
          "name": "stdout",
          "output_type": "stream",
          "text": [
            "\n",
            "Best Params:\n",
            "\tAccuracy: 86.62962962962963%\n",
            "\tC: 2\n",
            "\tgamma: 0.1\n",
            "\tkernel: linear\n"
          ]
        }
      ],
      "source": [
        "param_grid = {\n",
        "    \"C\": [1, 2, 3, 4, 5, 6, 7, 8, 9, 10, 25, 50, 75, 100],\n",
        "    \"gamma\": [0.1, 0.5, 0.8, 1, 2, 3, 4, 5, 6, 7, 8, 9, 10, 25, 50, 75, 100],\n",
        "    \"kernel\": ['linear', 'poly', 'rbf', 'sigmoid']\n",
        "}\n",
        "find_best_params(param_grid, SVC(), X, y, True)"
      ]
    },
    {
      "cell_type": "markdown",
      "metadata": {
        "id": "hmkhjrK4NtUH"
      },
      "source": [
        "Training the SVM algorithem with the best parameters with all the data"
      ]
    },
    {
      "cell_type": "code",
      "execution_count": null,
      "metadata": {
        "colab": {
          "base_uri": "https://localhost:8080/",
          "height": 75
        },
        "id": "M-rNn9UKNsxl",
        "outputId": "13493bda-055e-468d-d7f9-2aeef641421b"
      },
      "outputs": [
        {
          "output_type": "execute_result",
          "data": {
            "text/plain": [
              "SVC(C=2, gamma=0.1, kernel='linear')"
            ],
            "text/html": [
              "<style>#sk-container-id-1 {color: black;background-color: white;}#sk-container-id-1 pre{padding: 0;}#sk-container-id-1 div.sk-toggleable {background-color: white;}#sk-container-id-1 label.sk-toggleable__label {cursor: pointer;display: block;width: 100%;margin-bottom: 0;padding: 0.3em;box-sizing: border-box;text-align: center;}#sk-container-id-1 label.sk-toggleable__label-arrow:before {content: \"▸\";float: left;margin-right: 0.25em;color: #696969;}#sk-container-id-1 label.sk-toggleable__label-arrow:hover:before {color: black;}#sk-container-id-1 div.sk-estimator:hover label.sk-toggleable__label-arrow:before {color: black;}#sk-container-id-1 div.sk-toggleable__content {max-height: 0;max-width: 0;overflow: hidden;text-align: left;background-color: #f0f8ff;}#sk-container-id-1 div.sk-toggleable__content pre {margin: 0.2em;color: black;border-radius: 0.25em;background-color: #f0f8ff;}#sk-container-id-1 input.sk-toggleable__control:checked~div.sk-toggleable__content {max-height: 200px;max-width: 100%;overflow: auto;}#sk-container-id-1 input.sk-toggleable__control:checked~label.sk-toggleable__label-arrow:before {content: \"▾\";}#sk-container-id-1 div.sk-estimator input.sk-toggleable__control:checked~label.sk-toggleable__label {background-color: #d4ebff;}#sk-container-id-1 div.sk-label input.sk-toggleable__control:checked~label.sk-toggleable__label {background-color: #d4ebff;}#sk-container-id-1 input.sk-hidden--visually {border: 0;clip: rect(1px 1px 1px 1px);clip: rect(1px, 1px, 1px, 1px);height: 1px;margin: -1px;overflow: hidden;padding: 0;position: absolute;width: 1px;}#sk-container-id-1 div.sk-estimator {font-family: monospace;background-color: #f0f8ff;border: 1px dotted black;border-radius: 0.25em;box-sizing: border-box;margin-bottom: 0.5em;}#sk-container-id-1 div.sk-estimator:hover {background-color: #d4ebff;}#sk-container-id-1 div.sk-parallel-item::after {content: \"\";width: 100%;border-bottom: 1px solid gray;flex-grow: 1;}#sk-container-id-1 div.sk-label:hover label.sk-toggleable__label {background-color: #d4ebff;}#sk-container-id-1 div.sk-serial::before {content: \"\";position: absolute;border-left: 1px solid gray;box-sizing: border-box;top: 0;bottom: 0;left: 50%;z-index: 0;}#sk-container-id-1 div.sk-serial {display: flex;flex-direction: column;align-items: center;background-color: white;padding-right: 0.2em;padding-left: 0.2em;position: relative;}#sk-container-id-1 div.sk-item {position: relative;z-index: 1;}#sk-container-id-1 div.sk-parallel {display: flex;align-items: stretch;justify-content: center;background-color: white;position: relative;}#sk-container-id-1 div.sk-item::before, #sk-container-id-1 div.sk-parallel-item::before {content: \"\";position: absolute;border-left: 1px solid gray;box-sizing: border-box;top: 0;bottom: 0;left: 50%;z-index: -1;}#sk-container-id-1 div.sk-parallel-item {display: flex;flex-direction: column;z-index: 1;position: relative;background-color: white;}#sk-container-id-1 div.sk-parallel-item:first-child::after {align-self: flex-end;width: 50%;}#sk-container-id-1 div.sk-parallel-item:last-child::after {align-self: flex-start;width: 50%;}#sk-container-id-1 div.sk-parallel-item:only-child::after {width: 0;}#sk-container-id-1 div.sk-dashed-wrapped {border: 1px dashed gray;margin: 0 0.4em 0.5em 0.4em;box-sizing: border-box;padding-bottom: 0.4em;background-color: white;}#sk-container-id-1 div.sk-label label {font-family: monospace;font-weight: bold;display: inline-block;line-height: 1.2em;}#sk-container-id-1 div.sk-label-container {text-align: center;}#sk-container-id-1 div.sk-container {/* jupyter's `normalize.less` sets `[hidden] { display: none; }` but bootstrap.min.css set `[hidden] { display: none !important; }` so we also need the `!important` here to be able to override the default hidden behavior on the sphinx rendered scikit-learn.org. See: https://github.com/scikit-learn/scikit-learn/issues/21755 */display: inline-block !important;position: relative;}#sk-container-id-1 div.sk-text-repr-fallback {display: none;}</style><div id=\"sk-container-id-1\" class=\"sk-top-container\"><div class=\"sk-text-repr-fallback\"><pre>SVC(C=2, gamma=0.1, kernel=&#x27;linear&#x27;)</pre><b>In a Jupyter environment, please rerun this cell to show the HTML representation or trust the notebook. <br />On GitHub, the HTML representation is unable to render, please try loading this page with nbviewer.org.</b></div><div class=\"sk-container\" hidden><div class=\"sk-item\"><div class=\"sk-estimator sk-toggleable\"><input class=\"sk-toggleable__control sk-hidden--visually\" id=\"sk-estimator-id-1\" type=\"checkbox\" checked><label for=\"sk-estimator-id-1\" class=\"sk-toggleable__label sk-toggleable__label-arrow\">SVC</label><div class=\"sk-toggleable__content\"><pre>SVC(C=2, gamma=0.1, kernel=&#x27;linear&#x27;)</pre></div></div></div></div></div>"
            ]
          },
          "metadata": {},
          "execution_count": 20
        }
      ],
      "source": [
        "svm = SVC(C=2, gamma=0.1, kernel='linear')\n",
        "svm.fit(X_train, y_train)"
      ]
    },
    {
      "cell_type": "markdown",
      "metadata": {
        "id": "Kgni3HpQObYz"
      },
      "source": [
        "Calculating the accuracy for the model"
      ]
    },
    {
      "cell_type": "code",
      "execution_count": null,
      "metadata": {
        "colab": {
          "base_uri": "https://localhost:8080/"
        },
        "id": "4x8BrRU3Oez_",
        "outputId": "b785f6c7-8683-4b39-f324-66bf6a20c781"
      },
      "outputs": [
        {
          "output_type": "stream",
          "name": "stdout",
          "text": [
            "Accuracy: 83.04%\n"
          ]
        }
      ],
      "source": [
        "y_pred = svm.predict(X_test)\n",
        "accuracy = accuracy_score(y_test, y_pred)\n",
        "print(f\"Accuracy: {(accuracy * 100):.2f}%\")"
      ]
    },
    {
      "cell_type": "markdown",
      "metadata": {
        "id": "d5sChhmMOlPz"
      },
      "source": [
        "Printing the confusion matrix"
      ]
    },
    {
      "cell_type": "code",
      "execution_count": null,
      "metadata": {
        "colab": {
          "base_uri": "https://localhost:8080/",
          "height": 449
        },
        "id": "zU3G5gziOocW",
        "outputId": "8858f311-efb7-4d9c-91b0-fdea6f7aa193"
      },
      "outputs": [
        {
          "output_type": "display_data",
          "data": {
            "text/plain": [
              "<Figure size 640x480 with 2 Axes>"
            ],
            "image/png": "[encoded data removed]"
          },
          "metadata": {}
        }
      ],
      "source": [
        "conf_matrix = confusion_matrix(y_test, y_pred)\n",
        "sns.heatmap(conf_matrix, annot=True, cmap=\"Blues\", fmt='d')\n",
        "plt.xlabel('Predicted Labels')\n",
        "plt.ylabel('True Labels')\n",
        "plt.show()"
      ]
    },
    {
      "cell_type": "markdown",
      "metadata": {
        "id": "umziTChRMzwG"
      },
      "source": [
        "Finding best hyperparamters for second algorithm, RandomForest"
      ]
    },
    {
      "cell_type": "code",
      "execution_count": null,
      "metadata": {
        "colab": {
          "base_uri": "https://localhost:8080/"
        },
        "id": "g4xtA2Ujs7t6",
        "outputId": "68ef576d-506c-477d-f620-52143b018cd3"
      },
      "outputs": [
        {
          "name": "stderr",
          "output_type": "stream",
          "text": [
            " [1000/1000] (ETA:  00:00:00)                                                  "
          ]
        },
        {
          "name": "stdout",
          "output_type": "stream",
          "text": [
            "\n",
            "Best Params:\n",
            "\tAccuracy: 84.88888888888889%\n",
            "\tn_estimators: 500\n",
            "\tmax_depth: 25\n",
            "\tmin_samples_split: 2\n",
            "\tmin_samples_leaf: 1\n",
            "\tcriterion: entropy\n",
            "\n",
            "Best Params:\n",
            "\tAccuracy: 84.88888888888889%\n",
            "\tn_estimators: 500\n",
            "\tmax_depth: 25\n",
            "\tmin_samples_split: 2\n",
            "\tmin_samples_leaf: 1\n",
            "\tcriterion: entropy\n"
          ]
        }
      ],
      "source": [
        "param_grid = {\n",
        "    'n_estimators': [400, 450, 500, 550],\n",
        "    'max_depth': [5, 10, 15, 20, 25],\n",
        "    'min_samples_split': [2, 5, 10, 20, 25],\n",
        "    'min_samples_leaf': [1, 2, 4, 6, 8],\n",
        "    'criterion': ['gini', 'entropy']\n",
        "}\n",
        "find_best_params(param_grid, RandomForestClassifier(), X, y, False)"
      ]
    },
    {
      "cell_type": "markdown",
      "metadata": {
        "id": "r7WaUEM1O9hj"
      },
      "source": [
        "Training the random forest algorithm with the best params on all the train data"
      ]
    },
    {
      "cell_type": "code",
      "execution_count": null,
      "metadata": {
        "colab": {
          "base_uri": "https://localhost:8080/",
          "height": 74
        },
        "id": "K2IIhiTGcfjo",
        "outputId": "0b99c996-1694-444e-a891-8b3ac605a761"
      },
      "outputs": [
        {
          "data": {
            "text/html": [
              "<style>#sk-container-id-2 {color: black;background-color: white;}#sk-container-id-2 pre{padding: 0;}#sk-container-id-2 div.sk-toggleable {background-color: white;}#sk-container-id-2 label.sk-toggleable__label {cursor: pointer;display: block;width: 100%;margin-bottom: 0;padding: 0.3em;box-sizing: border-box;text-align: center;}#sk-container-id-2 label.sk-toggleable__label-arrow:before {content: \"▸\";float: left;margin-right: 0.25em;color: #696969;}#sk-container-id-2 label.sk-toggleable__label-arrow:hover:before {color: black;}#sk-container-id-2 div.sk-estimator:hover label.sk-toggleable__label-arrow:before {color: black;}#sk-container-id-2 div.sk-toggleable__content {max-height: 0;max-width: 0;overflow: hidden;text-align: left;background-color: #f0f8ff;}#sk-container-id-2 div.sk-toggleable__content pre {margin: 0.2em;color: black;border-radius: 0.25em;background-color: #f0f8ff;}#sk-container-id-2 input.sk-toggleable__control:checked~div.sk-toggleable__content {max-height: 200px;max-width: 100%;overflow: auto;}#sk-container-id-2 input.sk-toggleable__control:checked~label.sk-toggleable__label-arrow:before {content: \"▾\";}#sk-container-id-2 div.sk-estimator input.sk-toggleable__control:checked~label.sk-toggleable__label {background-color: #d4ebff;}#sk-container-id-2 div.sk-label input.sk-toggleable__control:checked~label.sk-toggleable__label {background-color: #d4ebff;}#sk-container-id-2 input.sk-hidden--visually {border: 0;clip: rect(1px 1px 1px 1px);clip: rect(1px, 1px, 1px, 1px);height: 1px;margin: -1px;overflow: hidden;padding: 0;position: absolute;width: 1px;}#sk-container-id-2 div.sk-estimator {font-family: monospace;background-color: #f0f8ff;border: 1px dotted black;border-radius: 0.25em;box-sizing: border-box;margin-bottom: 0.5em;}#sk-container-id-2 div.sk-estimator:hover {background-color: #d4ebff;}#sk-container-id-2 div.sk-parallel-item::after {content: \"\";width: 100%;border-bottom: 1px solid gray;flex-grow: 1;}#sk-container-id-2 div.sk-label:hover label.sk-toggleable__label {background-color: #d4ebff;}#sk-container-id-2 div.sk-serial::before {content: \"\";position: absolute;border-left: 1px solid gray;box-sizing: border-box;top: 0;bottom: 0;left: 50%;z-index: 0;}#sk-container-id-2 div.sk-serial {display: flex;flex-direction: column;align-items: center;background-color: white;padding-right: 0.2em;padding-left: 0.2em;position: relative;}#sk-container-id-2 div.sk-item {position: relative;z-index: 1;}#sk-container-id-2 div.sk-parallel {display: flex;align-items: stretch;justify-content: center;background-color: white;position: relative;}#sk-container-id-2 div.sk-item::before, #sk-container-id-2 div.sk-parallel-item::before {content: \"\";position: absolute;border-left: 1px solid gray;box-sizing: border-box;top: 0;bottom: 0;left: 50%;z-index: -1;}#sk-container-id-2 div.sk-parallel-item {display: flex;flex-direction: column;z-index: 1;position: relative;background-color: white;}#sk-container-id-2 div.sk-parallel-item:first-child::after {align-self: flex-end;width: 50%;}#sk-container-id-2 div.sk-parallel-item:last-child::after {align-self: flex-start;width: 50%;}#sk-container-id-2 div.sk-parallel-item:only-child::after {width: 0;}#sk-container-id-2 div.sk-dashed-wrapped {border: 1px dashed gray;margin: 0 0.4em 0.5em 0.4em;box-sizing: border-box;padding-bottom: 0.4em;background-color: white;}#sk-container-id-2 div.sk-label label {font-family: monospace;font-weight: bold;display: inline-block;line-height: 1.2em;}#sk-container-id-2 div.sk-label-container {text-align: center;}#sk-container-id-2 div.sk-container {/* jupyter's `normalize.less` sets `[hidden] { display: none; }` but bootstrap.min.css set `[hidden] { display: none !important; }` so we also need the `!important` here to be able to override the default hidden behavior on the sphinx rendered scikit-learn.org. See: https://github.com/scikit-learn/scikit-learn/issues/21755 */display: inline-block !important;position: relative;}#sk-container-id-2 div.sk-text-repr-fallback {display: none;}</style><div id=\"sk-container-id-2\" class=\"sk-top-container\"><div class=\"sk-text-repr-fallback\"><pre>RandomForestClassifier(criterion=&#x27;entropy&#x27;, max_depth=25, n_estimators=500)</pre><b>In a Jupyter environment, please rerun this cell to show the HTML representation or trust the notebook. <br />On GitHub, the HTML representation is unable to render, please try loading this page with nbviewer.org.</b></div><div class=\"sk-container\" hidden><div class=\"sk-item\"><div class=\"sk-estimator sk-toggleable\"><input class=\"sk-toggleable__control sk-hidden--visually\" id=\"sk-estimator-id-2\" type=\"checkbox\" checked><label for=\"sk-estimator-id-2\" class=\"sk-toggleable__label sk-toggleable__label-arrow\">RandomForestClassifier</label><div class=\"sk-toggleable__content\"><pre>RandomForestClassifier(criterion=&#x27;entropy&#x27;, max_depth=25, n_estimators=500)</pre></div></div></div></div></div>"
            ],
            "text/plain": [
              "RandomForestClassifier(criterion='entropy', max_depth=25, n_estimators=500)"
            ]
          },
          "execution_count": 25,
          "metadata": {},
          "output_type": "execute_result"
        }
      ],
      "source": [
        "rfc = RandomForestClassifier(n_estimators=500, max_depth=25, min_samples_split=2, min_samples_leaf=1, criterion='entropy')\n",
        "rfc.fit(X_train, y_train)"
      ]
    },
    {
      "cell_type": "markdown",
      "metadata": {
        "id": "Ugb2YJ-jPH0U"
      },
      "source": [
        "Printing the accuracy of rfc"
      ]
    },
    {
      "cell_type": "code",
      "execution_count": null,
      "metadata": {
        "colab": {
          "base_uri": "https://localhost:8080/"
        },
        "id": "GUE8H4p_Fbm_",
        "outputId": "0e9abd49-c97f-4d8c-8d00-9b53aee9f8ae"
      },
      "outputs": [
        {
          "name": "stdout",
          "output_type": "stream",
          "text": [
            "Accuracy: 81.81%\n"
          ]
        }
      ],
      "source": [
        "y_pred = rfc.predict(X_test)\n",
        "accuracy = accuracy_score(y_test, y_pred)\n",
        "print(f\"Accuracy: {(accuracy * 100):.2f}%\")"
      ]
    },
    {
      "cell_type": "markdown",
      "metadata": {
        "id": "NYgQPNPkPMZW"
      },
      "source": [
        "Printing the confusion matrix"
      ]
    },
    {
      "cell_type": "code",
      "execution_count": null,
      "metadata": {
        "colab": {
          "base_uri": "https://localhost:8080/",
          "height": 449
        },
        "id": "u3ehk2CHGoOB",
        "outputId": "0bd46573-ef10-4db8-b0c6-9955106d445b"
      },
      "outputs": [
        {
          "data": {
            "image/png": "[encoded data removed]",
            "text/plain": [
              "<Figure size 640x480 with 2 Axes>"
            ]
          },
          "metadata": {},
          "output_type": "display_data"
        }
      ],
      "source": [
        "conf_matrix = confusion_matrix(y_test, y_pred)\n",
        "sns.heatmap(conf_matrix, annot=True, cmap=\"Blues\", fmt='d')\n",
        "plt.xlabel('Predicted Labels')\n",
        "plt.ylabel('True Labels')\n",
        "plt.show()"
      ]
    }
  ],
  "metadata": {
    "colab": {
      "provenance": []
    },
    "gpuClass": "standard",
    "kernelspec": {
      "display_name": "Python 3",
      "name": "python3"
    },
    "language_info": {
      "name": "python"
    }
  },
  "nbformat": 4,
  "nbformat_minor": 0
}